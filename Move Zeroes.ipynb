{
 "cells": [
  {
   "cell_type": "code",
   "execution_count": 24,
   "id": "570f3025-bc55-4b26-ae06-d7a281c92c5d",
   "metadata": {},
   "outputs": [
    {
     "name": "stdout",
     "output_type": "stream",
     "text": [
      "[1, 3, 12, 0, 0]\n",
      "[0]\n"
     ]
    }
   ],
   "source": [
    "# Ans.\n",
    "\n",
    "def move_zeros(nums):\n",
    " \n",
    "\n",
    "  i = 0\n",
    "  j = 0\n",
    "  while i < len(nums):\n",
    "    if nums[i] != 0:\n",
    "      nums[j] = nums[i]\n",
    "      j += 1\n",
    "    i += 1\n",
    "\n",
    "  while j < len(nums):\n",
    "    nums[j] = 0\n",
    "    j += 1\n",
    "\n",
    "  return nums\n",
    "\n",
    "nums1 = [0, 1, 0, 3, 12]\n",
    "nums2 = [0]\n",
    "\n",
    "print(move_zeros(nums1))\n",
    "print(move_zeros(nums2))\n",
    "\n",
    "\n",
    "\n",
    "\n",
    "\n",
    "\n",
    "\n",
    "            \n",
    "        \n",
    "    "
   ]
  },
  {
   "cell_type": "code",
   "execution_count": null,
   "id": "8c2c51fd-ce95-4945-8c20-a44fcfae6a77",
   "metadata": {},
   "outputs": [],
   "source": []
  },
  {
   "cell_type": "code",
   "execution_count": null,
   "id": "5bdd22a6-ac61-4926-aa6b-36349dcacaf4",
   "metadata": {},
   "outputs": [],
   "source": []
  }
 ],
 "metadata": {
  "kernelspec": {
   "display_name": "Python 3 (ipykernel)",
   "language": "python",
   "name": "python3"
  },
  "language_info": {
   "codemirror_mode": {
    "name": "ipython",
    "version": 3
   },
   "file_extension": ".py",
   "mimetype": "text/x-python",
   "name": "python",
   "nbconvert_exporter": "python",
   "pygments_lexer": "ipython3",
   "version": "3.10.6"
  }
 },
 "nbformat": 4,
 "nbformat_minor": 5
}
